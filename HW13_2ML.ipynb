{
  "nbformat": 4,
  "nbformat_minor": 0,
  "metadata": {
    "colab": {
      "provenance": []
    },
    "kernelspec": {
      "name": "python3",
      "display_name": "Python 3"
    },
    "language_info": {
      "name": "python"
    }
  },
  "cells": [
    {
      "cell_type": "code",
      "execution_count": 8,
      "metadata": {
        "colab": {
          "base_uri": "https://localhost:8080/",
          "height": 542
        },
        "id": "Waa_cS13k3Vz",
        "outputId": "af1dcbec-14ee-42b2-e8e3-85491d75bc2a"
      },
      "outputs": [
        {
          "output_type": "stream",
          "name": "stdout",
          "text": [
            "Accuracy Score:  0.5625\n",
            "\n",
            "Confusion Matrix\n",
            " [[5 5]\n",
            " [2 4]]\n",
            "Feature Importance: [Color, size, age, act][0.25523773 0.18218883 0.199912   0.36266144]\n"
          ]
        },
        {
          "output_type": "display_data",
          "data": {
            "text/plain": [
              "<Figure size 640x480 with 2 Axes>"
            ],
            "image/png": "[encoded data removed]"
          },
          "metadata": {}
        }
      ],
      "source": [
        "'''Exercise 2\n",
        "Similarly to Ex. 1, use a Random Forest Classifier (use n_estimators=500)'''\n",
        "import pandas as pd\n",
        "import numpy as np\n",
        "from sklearn.model_selection import train_test_split\n",
        "from sklearn.metrics import accuracy_score\n",
        "from sklearn.ensemble import RandomForestClassifier\n",
        "from sklearn.metrics import confusion_matrix\n",
        "from matplotlib import pyplot as plt\n",
        "import seaborn as sns\n",
        "df = pd.read_csv('/content/balloons.csv')\n",
        "for i in range(len(df)):\n",
        "  if df['Color'][i]=='YELLOW':\n",
        "    df['Color'][i]=0\n",
        "  else:\n",
        "    df['Color'][i]=1\n",
        "  if df['size'][i]=='SMALL':\n",
        "    df['size'][i]=0\n",
        "  else:\n",
        "    df['size'][i]=1\n",
        "  if df['act'][i]=='STRETCH':\n",
        "    df['act'][i]=0\n",
        "  else:\n",
        "    df['act'][i]=1\n",
        "  if df['age'][i]=='ADULT':\n",
        "    df['age'][i]=0\n",
        "  else:\n",
        "    df['age'][i]=1\n",
        "X = np.array(df.iloc[:, 0:4])\n",
        "y = np.array(df.iloc[:, 4])\n",
        "X_train, X_test, y_train, y_test = train_test_split(X, y, test_size=0.20)\n",
        "RF = RandomForestClassifier(n_estimators=500)\n",
        "RF.fit(X_train, y_train)\n",
        "pred = RF.predict(X_test)\n",
        "print ('Accuracy Score: ', accuracy_score(y_test, pred))\n",
        "print('\\nConfusion Matrix\\n', confusion_matrix(y_test, pred))\n",
        "print(f'Feature Importance: [Color, size, age, act]{RF.feature_importances_}')\n",
        "sns.heatmap(confusion_matrix(y_test, pred))\n",
        "plt.show()"
      ]
    }
  ]
}