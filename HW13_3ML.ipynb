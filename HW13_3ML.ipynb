{
  "nbformat": 4,
  "nbformat_minor": 0,
  "metadata": {
    "colab": {
      "provenance": []
    },
    "kernelspec": {
      "name": "python3",
      "display_name": "Python 3"
    },
    "language_info": {
      "name": "python"
    }
  },
  "cells": [
    {
      "cell_type": "code",
      "execution_count": 21,
      "metadata": {
        "colab": {
          "base_uri": "https://localhost:8080/",
          "height": 703
        },
        "id": "6yjKFSZenV1u",
        "outputId": "0a7cc895-7176-4841-8366-26981ace977b"
      },
      "outputs": [
        {
          "output_type": "stream",
          "name": "stdout",
          "text": [
            "Accuracy Score:  0.625\n",
            "\n",
            "Confusion Matrix\n",
            " [[1 0 0]\n",
            " [0 1 0]\n",
            " [2 1 3]]\n",
            "Feature Importance: [age,spectacle,astigmatic,tear production rate][0.         0.         0.36571429 0.63428571]\n",
            "|--- feature_3 <= 1.50\n",
            "|   |--- class: 3\n",
            "|--- feature_3 >  1.50\n",
            "|   |--- feature_2 <= 1.50\n",
            "|   |   |--- class: 2\n",
            "|   |--- feature_2 >  1.50\n",
            "|   |   |--- class: 1\n",
            "\n"
          ]
        },
        {
          "output_type": "display_data",
          "data": {
            "text/plain": [
              "<Figure size 640x480 with 2 Axes>"
            ],
            "image/png": "[encoded data removed]"
          },
          "metadata": {}
        }
      ],
      "source": [
        "'''Exercise 3\n",
        "Given the following data set: lenses.csv, use a Decision Tree Classifier to predict whether a\n",
        "patient should be prescribed hard contact lenses, soft contact lenses, no contact lenses. Compute the\n",
        "accuracy score of the model and print the classification report as well as the Confusion Matrix\n",
        "both in text and as a heatmap (use test_size=0.3). In addition, print the most important features.\n",
        "Finally, create a visualization of the decision tree. Ignore the first column; the last column is the\n",
        "target (see file: lenses.names)'''\n",
        "import pandas as pd\n",
        "import numpy as np\n",
        "from sklearn.model_selection import train_test_split\n",
        "from sklearn.metrics import accuracy_score\n",
        "from sklearn.tree import export_graphviz\n",
        "import graphviz\n",
        "import sklearn.tree as tree\n",
        "from sklearn.tree import DecisionTreeClassifier\n",
        "from sklearn.metrics import confusion_matrix\n",
        "from matplotlib import pyplot as plt\n",
        "import seaborn as sns\n",
        "names=['n/a','age','spectacle','astigmatic','tear production rate','Class']\n",
        "df = pd.read_csv('/content/lenses.csv',names=names)\n",
        "df.drop(df.columns[[0]], axis=1, inplace=True)\n",
        "X = np.array(df.iloc[:, 0:4])\n",
        "y = np.array(df.iloc[:, 4])\n",
        "X_train, X_test, y_train, y_test = train_test_split(X, y, test_size=0.30)\n",
        "DT = DecisionTreeClassifier()\n",
        "DT.fit(X_train, y_train)\n",
        "pred = DT.predict(X_test)\n",
        "print ('Accuracy Score: ', accuracy_score(y_test, pred))\n",
        "print('\\nConfusion Matrix\\n', confusion_matrix(y_test, pred))\n",
        "print(f'Feature Importance: [age,spectacle,astigmatic,tear production rate]{DT.feature_importances_}')\n",
        "dot_data=tree.export_graphviz(DT, out_file=None, feature_names=['age','spectacle','astigmatic','tear_production_rate'], class_names=['no','soft','hard'], filled=True)\n",
        "graph = graphviz.Source(dot_data, format='png')\n",
        "graph.render('lenses_dt', view=True)\n",
        "text_representation = tree.export_text(DT)\n",
        "print(text_representation)\n",
        "sns.heatmap(confusion_matrix(y_test, pred))\n",
        "plt.show()"
      ]
    }
  ]
}