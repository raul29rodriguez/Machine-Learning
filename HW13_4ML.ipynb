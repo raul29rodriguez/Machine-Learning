{
  "nbformat": 4,
  "nbformat_minor": 0,
  "metadata": {
    "colab": {
      "provenance": []
    },
    "kernelspec": {
      "name": "python3",
      "display_name": "Python 3"
    },
    "language_info": {
      "name": "python"
    }
  },
  "cells": [
    {
      "cell_type": "code",
      "execution_count": 7,
      "metadata": {
        "colab": {
          "base_uri": "https://localhost:8080/",
          "height": 560
        },
        "id": "jpEtBQvewpWR",
        "outputId": "e6f83bd5-1441-42cf-c9fe-4a6f0189e79c"
      },
      "outputs": [
        {
          "output_type": "stream",
          "name": "stdout",
          "text": [
            "Accuracy Score:  0.875\n",
            "\n",
            "Confusion Matrix\n",
            " [[1 0 0]\n",
            " [0 0 1]\n",
            " [0 0 6]]\n",
            "Feature Importance: [age,spectacle,astigmatic,tear production rate][0.23775969 0.10569694 0.24667946 0.40986391]\n"
          ]
        },
        {
          "output_type": "display_data",
          "data": {
            "text/plain": [
              "<Figure size 640x480 with 2 Axes>"
            ],
            "image/png": "[encoded data removed]"
          },
          "metadata": {}
        }
      ],
      "source": [
        "'''Exercise 4\n",
        "Similarly to Ex. 3, use a Random Forest Classifier (use n_estimators=500)'''\n",
        "import pandas as pd\n",
        "import numpy as np\n",
        "from sklearn.model_selection import train_test_split\n",
        "from sklearn.metrics import accuracy_score\n",
        "from sklearn.ensemble import RandomForestClassifier\n",
        "from sklearn.metrics import confusion_matrix\n",
        "from matplotlib import pyplot as plt\n",
        "import seaborn as sns\n",
        "names=['n/a','age','spectacle','astigmatic','tear production rate','Class']\n",
        "df = pd.read_csv('/content/lenses.csv',names=names)\n",
        "df.drop(df.columns[[0]], axis=1, inplace=True)\n",
        "X = np.array(df.iloc[:, 0:4])\n",
        "y = np.array(df.iloc[:, 4])\n",
        "X_train, X_test, y_train, y_test = train_test_split(X, y, test_size=0.30)\n",
        "RF = RandomForestClassifier()\n",
        "RF.fit(X_train, y_train)\n",
        "pred = RF.predict(X_test)\n",
        "print ('Accuracy Score: ', accuracy_score(y_test, pred))\n",
        "print('\\nConfusion Matrix\\n', confusion_matrix(y_test, pred))\n",
        "print(f'Feature Importance: [age,spectacle,astigmatic,tear production rate]{RF.feature_importances_}')\n",
        "sns.heatmap(confusion_matrix(y_test, pred))\n",
        "plt.show()"
      ]
    }
  ]
}