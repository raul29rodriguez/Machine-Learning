{
  "nbformat": 4,
  "nbformat_minor": 0,
  "metadata": {
    "colab": {
      "provenance": []
    },
    "kernelspec": {
      "name": "python3",
      "display_name": "Python 3"
    },
    "language_info": {
      "name": "python"
    }
  },
  "cells": [
    {
      "cell_type": "code",
      "execution_count": 31,
      "metadata": {
        "colab": {
          "base_uri": "https://localhost:8080/",
          "height": 1000
        },
        "id": "6CohS6LPSQxr",
        "outputId": "08b05d0e-0ca1-49ef-ffee-fb131b94c38a"
      },
      "outputs": [
        {
          "output_type": "stream",
          "name": "stdout",
          "text": [
            "Accuracy Score:  0.6875\n",
            "\n",
            "Confusion Matrix\n",
            " [[6 3]\n",
            " [2 5]]\n",
            "Feature Importance: [Color, size, age, act][0.23092881 0.24163131 0.1301273  0.39731259]\n",
            "|--- feature_3 <= 0.50\n",
            "|   |--- feature_2 <= 0.50\n",
            "|   |   |--- feature_0 <= 0.50\n",
            "|   |   |   |--- feature_1 <= 0.50\n",
            "|   |   |   |   |--- class: T\n",
            "|   |   |   |--- feature_1 >  0.50\n",
            "|   |   |   |   |--- class: T\n",
            "|   |   |--- feature_0 >  0.50\n",
            "|   |   |   |--- feature_1 <= 0.50\n",
            "|   |   |   |   |--- class: T\n",
            "|   |   |   |--- feature_1 >  0.50\n",
            "|   |   |   |   |--- class: T\n",
            "|   |--- feature_2 >  0.50\n",
            "|   |   |--- feature_1 <= 0.50\n",
            "|   |   |   |--- feature_0 <= 0.50\n",
            "|   |   |   |   |--- class: T\n",
            "|   |   |   |--- feature_0 >  0.50\n",
            "|   |   |   |   |--- class: F\n",
            "|   |   |--- feature_1 >  0.50\n",
            "|   |   |   |--- feature_0 <= 0.50\n",
            "|   |   |   |   |--- class: F\n",
            "|   |   |   |--- feature_0 >  0.50\n",
            "|   |   |   |   |--- class: F\n",
            "|--- feature_3 >  0.50\n",
            "|   |--- feature_0 <= 0.50\n",
            "|   |   |--- feature_1 <= 0.50\n",
            "|   |   |   |--- feature_2 <= 0.50\n",
            "|   |   |   |   |--- class: T\n",
            "|   |   |   |--- feature_2 >  0.50\n",
            "|   |   |   |   |--- class: T\n",
            "|   |   |--- feature_1 >  0.50\n",
            "|   |   |   |--- feature_2 <= 0.50\n",
            "|   |   |   |   |--- class: F\n",
            "|   |   |   |--- feature_2 >  0.50\n",
            "|   |   |   |   |--- class: F\n",
            "|   |--- feature_0 >  0.50\n",
            "|   |   |--- class: F\n",
            "\n"
          ]
        },
        {
          "output_type": "display_data",
          "data": {
            "text/plain": [
              "<Figure size 640x480 with 2 Axes>"
            ],
            "image/png": "[encoded data removed]"
          },
          "metadata": {}
        }
      ],
      "source": [
        "'''Exercise 1\n",
        "Given the following data set: balloons.csv, use a Decision Tree Classifier to predict whether a\n",
        "balloon is inflated or not. Compute the accuracy score of the model and print the classification\n",
        "report as well as the Confusion Matrix both in text and as a heatmap (use test_size=0.2). In\n",
        "addition, print the most important features. Finally, create a visualization of the decision tree\n",
        "Note 1: Use the following lines of code to produce a decision tree visualization:\n",
        "import graphviz\n",
        "dot_data=tree.export_graphviz(dtree, out_file=None, feature_names=featureNames, class_names=lbl,\n",
        "filled=True)\n",
        "graph = graphviz.Source(dot_data, format=’png’)\n",
        "graph.render(’balloons_dt’, view=True)\n",
        "where: dtree=name of model, feature_names=[’Color’, ’size’, ’age’, ’act’], class_names=[’F’, ’T’]\n",
        "Note 2: You can create a text representation of a decision tree using:\n",
        "text_representation = tree.export_text(dtree)\n",
        "print(text_representation)'''\n",
        "import pandas as pd\n",
        "import numpy as np\n",
        "from sklearn.model_selection import train_test_split\n",
        "from sklearn.metrics import accuracy_score\n",
        "from sklearn.tree import export_graphviz\n",
        "import graphviz\n",
        "import sklearn.tree as tree\n",
        "from sklearn.tree import DecisionTreeClassifier\n",
        "from sklearn.metrics import confusion_matrix\n",
        "from matplotlib import pyplot as plt\n",
        "import seaborn as sns\n",
        "\n",
        "df = pd.read_csv('/content/balloons.csv')\n",
        "for i in range(len(df)):\n",
        "  if df['Color'][i]=='YELLOW':\n",
        "    df['Color'][i]=0\n",
        "  else:\n",
        "    df['Color'][i]=1\n",
        "  if df['size'][i]=='SMALL':\n",
        "    df['size'][i]=0\n",
        "  else:\n",
        "    df['size'][i]=1\n",
        "  if df['act'][i]=='STRETCH':\n",
        "    df['act'][i]=0\n",
        "  else:\n",
        "    df['act'][i]=1\n",
        "  if df['age'][i]=='ADULT':\n",
        "    df['age'][i]=0\n",
        "  else:\n",
        "    df['age'][i]=1\n",
        "X = np.array(df.iloc[:, 0:4])\n",
        "y = np.array(df.iloc[:, 4])\n",
        "\n",
        "X_train, X_test, y_train, y_test = train_test_split(X, y, test_size=0.20)\n",
        "DT = DecisionTreeClassifier()\n",
        "DT.fit(X_train, y_train)\n",
        "pred = DT.predict(X_test)\n",
        "print ('Accuracy Score: ', accuracy_score(y_test, pred))\n",
        "print('\\nConfusion Matrix\\n', confusion_matrix(y_test, pred))\n",
        "print(f'Feature Importance: [Color, size, age, act]{DT.feature_importances_}')\n",
        "dot_data=tree.export_graphviz(DT, out_file=None, feature_names=['Color', 'size', 'age', 'act'], class_names=['F', 'T'], filled=True)\n",
        "graph = graphviz.Source(dot_data, format='png')\n",
        "graph.render('balloons_dt', view=True)\n",
        "text_representation = tree.export_text(DT)\n",
        "print(text_representation)\n",
        "sns.heatmap(confusion_matrix(y_test, pred))\n",
        "plt.show()"
      ]
    }
  ]
}